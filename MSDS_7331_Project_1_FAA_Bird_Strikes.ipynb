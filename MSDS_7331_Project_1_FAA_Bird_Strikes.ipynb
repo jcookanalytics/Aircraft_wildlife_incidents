{
 "cells": [
  {
   "cell_type": "markdown",
   "metadata": {},
   "source": [
    "# MSDS 7331 Project 1\n",
    "#### Lab One: Visualization and Data Preprocessing \n",
    "\n",
    "### James (Jim) Brittain and Joseph Cook\n",
    "\n",
    "### FAA BIRD STRIKE DATA"
   ]
  },
  {
   "cell_type": "code",
   "execution_count": 10,
   "metadata": {
    "collapsed": false
   },
   "outputs": [
    {
     "name": "stdout",
     "output_type": "stream",
     "text": [
      "   Record ID  Incident Year  Incident Month  Incident Day Operator ID  \\\n",
      "0     127128           1990               1             1         DAL   \n",
      "1     129779           1990               1             1         HAL   \n",
      "2     129780           1990               1             2         UNK   \n",
      "3       2258           1990               1             3         MIL   \n",
      "4       2257           1990               1             3         MIL   \n",
      "\n",
      "          Operator   Aircraft Aircraft Type Aircraft Make Aircraft Model  \\\n",
      "0  DELTA AIR LINES  B-757-200             A           148             26   \n",
      "1     HAWAIIAN AIR       DC-9             A           583             90   \n",
      "2          UNKNOWN    UNKNOWN           NaN           NaN            NaN   \n",
      "3         MILITARY      A-10A             A           345            NaN   \n",
      "4         MILITARY       F-16             A           561            NaN   \n",
      "\n",
      "      ...       Fuselage Strike  Fuselage Damage Landing Gear Strike  \\\n",
      "0     ...                     0                0                   0   \n",
      "1     ...                     0                0                   0   \n",
      "2     ...                     0                0                   0   \n",
      "3     ...                     0                0                   0   \n",
      "4     ...                     0                0                   0   \n",
      "\n",
      "   Landing Gear Damage Tail Strike Tail Damage  Lights Strike Lights Damage  \\\n",
      "0                    0           1           1              0             0   \n",
      "1                    0           0           0              0             0   \n",
      "2                    0           0           0              0             0   \n",
      "3                    0           0           0              0             0   \n",
      "4                    0           0           0              0             0   \n",
      "\n",
      "   Other Strike Other Damage  \n",
      "0             0            0  \n",
      "1             1            0  \n",
      "2             0            0  \n",
      "3             0            0  \n",
      "4             0            0  \n",
      "\n",
      "[5 rows x 66 columns]\n"
     ]
    }
   ],
   "source": [
    "import pandas as pd\n",
    "import numpy  as np\n",
    "\n",
    "# Need to use 'r' before the string to translate to RAW string\n",
    "raw = pd.read_csv(r\"D:\\Users\\Jim\\OneDrive\\Documents\\SMU\\MSDS 7331 DATA MINING\\Project_1\\01_Raw_Data\\Aircraft_Wildlife_Strikes_1990-2015.csv\", header=0, low_memory=False)\n",
    "\n",
    "print (raw.head())"
   ]
  },
  {
   "cell_type": "markdown",
   "metadata": {
    "collapsed": true
   },
   "source": [
    "#### Business Understanding (10 points total)\n",
    "* Describe the purpose of the data set you selected (i.e., why was this data collected in the ﬁrst place?). Describe how you would deﬁne and measure the outcomes from the dataset. That is, why is this data important and how do you know if you have mined useful knowledge from the dataset? How would you measure the effectiveness of a good prediction algorithm? Be speciﬁc. \n",
    "#### Data Understanding (80 points total) \n",
    "* [10 points] Describe the meaning and type of data (scale, values, etc.) for each attribute in the data ﬁle.  \n",
    "* [15 points] Verify data quality: Explain any missing values, duplicate data, and outliers. Are those mistakes? How do you deal with these problems? Give justiﬁcations for your methods. \n",
    "* [10 points] Visualize appropriate statistics (e.g., range, mode, mean, median, variance, counts) for a subset of attributes. Describe anything meaningful you found from this or if you found something potentially interesting. Note: You can also use data from other sources for comparison. Explain why the statistics run are  meaningful.  \n",
    "* [15 points] Visualize the most interesting attributes (at least 5 attributes, your opinion on what is interesting). Important: Interpret the implications for each visualization. Explain for each attribute why the chosen visualization is appropriate.  \n",
    "* [15 points] Visualize relationships between attributes: Look at the attributes via scatter plots, correlation, cross-tabulation, group-wise averages, etc. as appropriate. Explain any interesting relationships. \n",
    "* [10 points] Identify and explain interesting relationships between features and the class you are trying to predict (i.e., relationships with variables and the target classiﬁcation). \n",
    "* [5 points] Are there other features that could be added to the data or created from existing features?  Which ones? \n",
    "#### Exceptional Work (10 points total) \n",
    "* You have free reign to provide additional analyses.  \n",
    "* One idea: implement dimensionality reduction, then visualize and interpret the results. \n",
    "\n"
   ]
  },
  {
   "cell_type": "code",
   "execution_count": 11,
   "metadata": {
    "collapsed": false
   },
   "outputs": [
    {
     "name": "stdout",
     "output_type": "stream",
     "text": [
      "Record ID                 int64\n",
      "Incident Year             int64\n",
      "Incident Month            int64\n",
      "Incident Day              int64\n",
      "Operator ID              object\n",
      "Operator                 object\n",
      "Aircraft                 object\n",
      "Aircraft Type            object\n",
      "Aircraft Make            object\n",
      "Aircraft Model           object\n",
      "Aircraft Mass           float64\n",
      "Engine Make             float64\n",
      "Engine Model             object\n",
      "Engines                 float64\n",
      "Engine Type              object\n",
      "Engine1 Position         object\n",
      "Engine2 Position        float64\n",
      "Engine3 Position         object\n",
      "Engine4 Position        float64\n",
      "Airport ID               object\n",
      "Airport                  object\n",
      "State                    object\n",
      "FAA Region               object\n",
      "Warning Issued           object\n",
      "Flight Phase             object\n",
      "Visibility               object\n",
      "Precipitation            object\n",
      "Height                  float64\n",
      "Speed                   float64\n",
      "Distance                float64\n",
      "                         ...   \n",
      "Aircraft Damage           int64\n",
      "Radome Strike             int64\n",
      "Radome Damage             int64\n",
      "Windshield Strike         int64\n",
      "Windshield Damage         int64\n",
      "Nose Strike               int64\n",
      "Nose Damage               int64\n",
      "Engine1 Strike            int64\n",
      "Engine1 Damage            int64\n",
      "Engine2 Strike            int64\n",
      "Engine2 Damage            int64\n",
      "Engine3 Strike            int64\n",
      "Engine3 Damage            int64\n",
      "Engine4 Strike            int64\n",
      "Engine4 Damage            int64\n",
      "Engine Ingested           int64\n",
      "Propeller Strike          int64\n",
      "Propeller Damage          int64\n",
      "Wing or Rotor Strike      int64\n",
      "Wing or Rotor Damage      int64\n",
      "Fuselage Strike           int64\n",
      "Fuselage Damage           int64\n",
      "Landing Gear Strike       int64\n",
      "Landing Gear Damage       int64\n",
      "Tail Strike               int64\n",
      "Tail Damage               int64\n",
      "Lights Strike             int64\n",
      "Lights Damage             int64\n",
      "Other Strike              int64\n",
      "Other Damage              int64\n",
      "dtype: object\n"
     ]
    }
   ],
   "source": [
    "print (raw.dtypes)\n",
    "\n",
    "\n",
    "\n"
   ]
  },
  {
   "cell_type": "code",
   "execution_count": 12,
   "metadata": {
    "collapsed": false
   },
   "outputs": [
    {
     "name": "stdout",
     "output_type": "stream",
     "text": [
      "           Record ID  Incident Year  Incident Month   Incident Day  \\\n",
      "count  174104.000000  174104.000000   174104.000000  174104.000000   \n",
      "mean   241204.036915    2006.036392        7.171840      15.712264   \n",
      "std     94013.682213       6.747708        2.790152       8.799405   \n",
      "min      1000.000000    1990.000000        1.000000       1.000000   \n",
      "25%    205411.750000    2001.000000        5.000000       8.000000   \n",
      "50%    249102.500000    2007.000000        8.000000      16.000000   \n",
      "75%    322592.250000    2012.000000        9.000000      23.000000   \n",
      "max    367445.000000    2015.000000       12.000000      31.000000   \n",
      "\n",
      "       Aircraft Mass    Engine Make        Engines  Engine2 Position  \\\n",
      "count  127320.000000  123434.000000  127342.000000     118715.000000   \n",
      "mean        3.510611      21.306958       2.057656          2.918570   \n",
      "std         0.873783      11.023161       0.469374          2.008204   \n",
      "min         1.000000       1.000000       1.000000          1.000000   \n",
      "25%         3.000000      10.000000       2.000000          1.000000   \n",
      "50%         4.000000      22.000000       2.000000          1.000000   \n",
      "75%         4.000000      34.000000       2.000000          5.000000   \n",
      "max         5.000000      92.000000       4.000000          7.000000   \n",
      "\n",
      "       Engine4 Position         Height      ...        Fuselage Strike  \\\n",
      "count       3092.000000  103677.000000      ...          174104.000000   \n",
      "mean           2.058538     831.032283      ...               0.102703   \n",
      "std            1.441000    1803.650833      ...               0.303571   \n",
      "min            1.000000       0.000000      ...               0.000000   \n",
      "25%            1.000000       0.000000      ...               0.000000   \n",
      "50%            1.000000      50.000000      ...               0.000000   \n",
      "75%            4.000000     800.000000      ...               0.000000   \n",
      "max            5.000000   31300.000000      ...               1.000000   \n",
      "\n",
      "       Fuselage Damage  Landing Gear Strike  Landing Gear Damage  \\\n",
      "count    174104.000000        174104.000000        174104.000000   \n",
      "mean          0.004733             0.046242             0.005813   \n",
      "std           0.068633             0.210010             0.076019   \n",
      "min           0.000000             0.000000             0.000000   \n",
      "25%           0.000000             0.000000             0.000000   \n",
      "50%           0.000000             0.000000             0.000000   \n",
      "75%           0.000000             0.000000             0.000000   \n",
      "max           1.000000             1.000000             1.000000   \n",
      "\n",
      "         Tail Strike    Tail Damage  Lights Strike  Lights Damage  \\\n",
      "count  174104.000000  174104.000000  174104.000000  174104.000000   \n",
      "mean        0.011235       0.004176       0.005962       0.004216   \n",
      "std         0.105397       0.064485       0.076983       0.064793   \n",
      "min         0.000000       0.000000       0.000000       0.000000   \n",
      "25%         0.000000       0.000000       0.000000       0.000000   \n",
      "50%         0.000000       0.000000       0.000000       0.000000   \n",
      "75%         0.000000       0.000000       0.000000       0.000000   \n",
      "max         1.000000       1.000000       1.000000       1.000000   \n",
      "\n",
      "        Other Strike   Other Damage  \n",
      "count  174104.000000  174104.000000  \n",
      "mean        0.090727       0.008989  \n",
      "std         0.287222       0.094383  \n",
      "min         0.000000       0.000000  \n",
      "25%         0.000000       0.000000  \n",
      "50%         0.000000       0.000000  \n",
      "75%         0.000000       0.000000  \n",
      "max         1.000000       1.000000  \n",
      "\n",
      "[8 rows x 44 columns]\n"
     ]
    }
   ],
   "source": [
    "print (raw.describe())"
   ]
  },
  {
   "cell_type": "markdown",
   "metadata": {
    "collapsed": true
   },
   "source": [
    "* Create \"Modified\" DF (BS-BIRD STRIKES)\n",
    "* Drop unused variables (columns)\n",
    "* Recode variables into categories\n"
   ]
  },
  {
   "cell_type": "code",
   "execution_count": 21,
   "metadata": {
    "collapsed": false
   },
   "outputs": [
    {
     "name": "stdout",
     "output_type": "stream",
     "text": [
      "Incident Year             int64\n",
      "Incident Month            int64\n",
      "Operator ID              object\n",
      "Operator                 object\n",
      "Aircraft                 object\n",
      "Aircraft Type            object\n",
      "Aircraft Mass           float64\n",
      "Engines                 float64\n",
      "Engine Type              object\n",
      "Airport ID               object\n",
      "Airport                  object\n",
      "State                    object\n",
      "FAA Region               object\n",
      "Warning Issued           object\n",
      "Flight Phase             object\n",
      "Height                  float64\n",
      "Speed                   float64\n",
      "Distance                float64\n",
      "Species ID               object\n",
      "Species Name             object\n",
      "Species Quantity         object\n",
      "Flight Impact            object\n",
      "Fatalities              float64\n",
      "Injuries                float64\n",
      "Aircraft Damage           int64\n",
      "Radome Strike             int64\n",
      "Radome Damage             int64\n",
      "Windshield Strike         int64\n",
      "Windshield Damage         int64\n",
      "Nose Strike               int64\n",
      "Nose Damage               int64\n",
      "Engine1 Strike            int64\n",
      "Engine1 Damage            int64\n",
      "Engine2 Strike            int64\n",
      "Engine2 Damage            int64\n",
      "Engine3 Strike            int64\n",
      "Engine3 Damage            int64\n",
      "Engine4 Strike            int64\n",
      "Engine4 Damage            int64\n",
      "Engine Ingested           int64\n",
      "Propeller Strike          int64\n",
      "Propeller Damage          int64\n",
      "Wing or Rotor Strike      int64\n",
      "Wing or Rotor Damage      int64\n",
      "Fuselage Strike           int64\n",
      "Fuselage Damage           int64\n",
      "Landing Gear Strike       int64\n",
      "Landing Gear Damage       int64\n",
      "Tail Strike               int64\n",
      "Tail Damage               int64\n",
      "Lights Strike             int64\n",
      "Lights Damage             int64\n",
      "Other Strike              int64\n",
      "Other Damage              int64\n",
      "dtype: object\n"
     ]
    },
    {
     "data": {
      "text/plain": [
       "NaN                      74639\n",
       "ABORTED TAKEOFF           2352\n",
       "ENGINE SHUTDOWN            463\n",
       "NONE                     88082\n",
       "OTHER                     2423\n",
       "PRECAUTIONARY LANDING     6145\n",
       "Name: Flight Impact, dtype: int64"
      ]
     },
     "execution_count": 21,
     "metadata": {},
     "output_type": "execute_result"
    }
   ],
   "source": [
    "bs = raw\n",
    "\n",
    "# DROP VARS\n",
    "bs = bs.drop('Record ID', axis=1)\n",
    "bs = bs.drop('Incident Day', axis=1)\n",
    "bs = bs.drop('Aircraft Make', axis=1)\n",
    "bs = bs.drop('Aircraft Model', axis=1)\n",
    "bs = bs.drop('Engine Make', axis=1)\n",
    "bs = bs.drop('Engine Model', axis=1)\n",
    "bs = bs.drop('Engine1 Position', axis=1)\n",
    "bs = bs.drop('Engine2 Position', axis=1)\n",
    "bs = bs.drop('Engine3 Position', axis=1)\n",
    "bs = bs.drop('Engine4 Position', axis=1)\n",
    "bs = bs.drop('Visibility', axis=1)\n",
    "bs = bs.drop('Precipitation', axis=1)\n",
    "# LIST RESULTING VARS WITH DATA TYPES\n",
    "print (bs.dtypes)\n",
    "\n",
    "# RECODES\n",
    "bs['Flight Impact'] = bs['Flight Impact'].replace(to_replace='ENGINE SHUT DOWN', value='ENGINE SHUTDOWN')\n",
    "# FREQ. TO CONFIRM\n",
    "bs['Flight Impact'].value_counts(dropna=False).sort_index()\n",
    "\n",
    "\n",
    "\n",
    "\n"
   ]
  },
  {
   "cell_type": "code",
   "execution_count": 24,
   "metadata": {
    "collapsed": false
   },
   "outputs": [
    {
     "data": {
      "text/plain": [
       "NaN      174102\n",
       "ZZ201         1\n",
       "NE1           1\n",
       "Name: species gp, dtype: int64"
      ]
     },
     "execution_count": 24,
     "metadata": {},
     "output_type": "execute_result"
    }
   ],
   "source": [
    "bs['species gp'] = bs['Species ID'][:2]\n",
    "#species_gp = substr(species_id,1,1) ;\n",
    "\n",
    "# FREQ. TO CONFIRM\n",
    "bs['species gp'].value_counts(dropna=False)\n"
   ]
  },
  {
   "cell_type": "code",
   "execution_count": null,
   "metadata": {
    "collapsed": true
   },
   "outputs": [],
   "source": []
  }
 ],
 "metadata": {
  "kernelspec": {
   "display_name": "Python 2",
   "language": "python",
   "name": "python2"
  },
  "language_info": {
   "codemirror_mode": {
    "name": "ipython",
    "version": 2
   },
   "file_extension": ".py",
   "mimetype": "text/x-python",
   "name": "python",
   "nbconvert_exporter": "python",
   "pygments_lexer": "ipython2",
   "version": "2.7.13"
  }
 },
 "nbformat": 4,
 "nbformat_minor": 2
}
