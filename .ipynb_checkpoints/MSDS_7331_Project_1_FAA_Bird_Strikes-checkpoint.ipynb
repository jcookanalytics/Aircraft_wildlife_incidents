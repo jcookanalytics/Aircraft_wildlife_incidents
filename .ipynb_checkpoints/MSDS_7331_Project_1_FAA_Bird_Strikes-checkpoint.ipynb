{
 "cells": [
  {
   "cell_type": "markdown",
   "metadata": {},
   "source": [
    "# MSDS 7331 Project 1\n",
    "### Lab One: Visualization and Data Preprocessing \n",
    "\n",
    "#### James (Jim) Brittain and Joseph Cook\n",
    "\n",
    "### FAA WILDLIFE (BIRD) STRIKE DATA 1990-2015"
   ]
  },
  {
   "cell_type": "markdown",
   "metadata": {
    "collapsed": true
   },
   "source": [
    "#### Business Understanding (10 points total)\n",
    "* Describe the purpose of the data set you selected (i.e., why was this data collected in the ﬁrst place?). Describe how you would deﬁne and measure the outcomes from the dataset. That is, why is this data important and how do you know if you have mined useful knowledge from the dataset? How would you measure the effectiveness of a good prediction algorithm? Be speciﬁc. \n",
    "#### Data Understanding (80 points total) \n",
    "* [10 points] Describe the meaning and type of data (scale, values, etc.) for each attribute in the data ﬁle.  \n",
    "* [15 points] Verify data quality: Explain any missing values, duplicate data, and outliers. Are those mistakes? How do you deal with these problems? Give justiﬁcations for your methods. \n",
    "* [10 points] Visualize appropriate statistics (e.g., range, mode, mean, median, variance, counts) for a subset of attributes. Describe anything meaningful you found from this or if you found something potentially interesting. Note: You can also use data from other sources for comparison. Explain why the statistics run are  meaningful.  \n",
    "* [15 points] Visualize the most interesting attributes (at least 5 attributes, your opinion on what is interesting). Important: Interpret the implications for each visualization. Explain for each attribute why the chosen visualization is appropriate.  \n",
    "* [15 points] Visualize relationships between attributes: Look at the attributes via scatter plots, correlation, cross-tabulation, group-wise averages, etc. as appropriate. Explain any interesting relationships. \n",
    "* [10 points] Identify and explain interesting relationships between features and the class you are trying to predict (i.e., relationships with variables and the target classiﬁcation). \n",
    "* [5 points] Are there other features that could be added to the data or created from existing features?  Which ones? \n",
    "#### Exceptional Work (10 points total) \n",
    "* You have free reign to provide additional analyses.  \n",
    "* One idea: implement dimensionality reduction, then visualize and interpret the results. \n",
    "\n"
   ]
  },
  {
   "cell_type": "markdown",
   "metadata": {},
   "source": [
    "#### Business Understanding\n",
    "This data appears to be the data behind the searchable database for Airplane strikes of wildlife found at: \n",
    "https://wildlife.faa.gov/.\n",
    "\n",
    "The dataset was found on Kaggle: Aircraft Wildlife Strikes 1990-2015 https://www.kaggle.com/faa/wildlife-strikes\n",
    "The dataset provides various data related to each wildlife strike by an airplane for the years 1990-2015. There is very detailed information on the species of animal being struck, the make and model of the aircraft, and indicators of strike location on the aircraft and damage indicators. When searching the internet for more information on this dataset such as data labels/values for categorical numeric values that must represnent more detailed values; we found that the FAA publishes a detailed report using this data in conjuction with additional data in some cases. The latest version of this report can be found here: https://www.faa.gov/airports/airport_safety/wildlife/media/Wildlife-Strike-Report-1990-2015.pdf\n",
    "\n",
    "The main purpose of this data is to track incidents of wildlife strikes by airplanes with the intention of trying to make changes that may lower the incidence rate. Some of the methods used to reduce birds in the vacinity of airports, to lower the bird strike rate; include: using preditor birds to scare away other species, air cannons (for sound), and not allowing land fills within close proximity of airports.   \n",
    "\n",
    "Although there are a large number of bird strikes in this data from 1990-2015 n=168,149; these incidents rarely result in injury (incidents n=204 resulting in n=265 injuries) or death  (incidents n=11 resulting in n=25 deaths). A search for total flights in the US per year found this report: http://garfors.com/2014/06/100000-flights-day.html/. The report shows that \"there are 37.4 million flights scheduled in 2014\" compared to 13,455 bird strikes in that same year.\n",
    "\n",
    "\n",
    "#### Describe the meaning and type of data \n",
    "Reviewing the Kaggle page that presents this data and even searching the FAA site did not turn up a data dictionary which makes some of the variables less useful for data analysis. Another interesting point was that the FAA website does not appear to have this data available there.  \n",
    "\n",
    "This data includes bird strikes, terestrial animal strikes, and bats. For the purpose of this analysis the dataset will be subset to just the bird strikes which represents the largest portion of the incidents.\n",
    "\n",
    "Some variables have been dropped due to not being needed for the chosen analysis.\n",
    "##### Data Dictionary\n",
    "#####        VARIABLE                    DATA TYPE\n",
    "    Incident_Year             INT \n",
    "    Incident_Month            INT \n",
    "    Operator_ID               CAT           Aircraft Company/Affiliation Code\n",
    "    Operator                 String         Aircraft Company/Affiliation Description/Name\n",
    "    Aircraft                  CAT\n",
    "    Aircraft_Type             CAT           Believed to be Commercial/Private \n",
    "                                            (A, B / 23% Missing - Includes value=J n=5)\n",
    "    Aircraft_Mass             INT           5 categories (seached for values but only found a report with 4 categories)\n",
    "                                            (1 - 5 / 26% Missing)\n",
    "    Engines                   INT           Number of engines on the aircraft\n",
    "                                            (1 - 4 / 26% Missing)\n",
    "    Engine_Type               CAT           Type of Engine on Aircraft\n",
    "                                            (A-Reciprocating, B-Turbojet, C-Turboprop, D-Turbofan,\n",
    "                                             E-None (glider), F-Turboshaft (helicopter),\n",
    "                                             Y-Other\n",
    "                                              / 26% Missing)\n",
    "    Airport_ID                CAT           Airport Code\n",
    "    Airport                  String         Airport Description/Name\n",
    "    State                     CAT           State of Strike\n",
    "    FAA_Region                CAT           FAA Region of Strike\n",
    "    Warning_Issued           object         \n",
    "    Flight_Phase             object\n",
    "    Height                 CONTINUOUS       Height Above Ground\n",
    "                                            (0 - 31,300 / 40% Missing)\n",
    "    Speed                  CONTINUOUS       Airspeed (nautical miles/hour [knots])\n",
    "                                            (0 - 500 / 58% Missing - Includes 1 outlier of 2500)\n",
    "    Species_ID                CAT           Species Struck ID\n",
    "    Species_Name             String         Species Struck Description/Name\n",
    "    * species_group           CAT           * Created Var * Species Grouped to 20 Categories\n",
    "                                            (48% UNKNOWN)\n",
    "    Species_Quantity          CAT           Number of Species Struck\n",
    "                                            (1, 2-10, 11-100, Over 100\n",
    "                                             / 2% Missing)\n",
    "    Flight_Impact             CAT           Impact of Flight from Strike\n",
    "                                            (ABORTED TAKEOFF, ENGINE SHUTDOWN, NONE, OTHER, PRECAUTIONARY LANDING \n",
    "                                             / 42% Missing) \n",
    "    Fatalities                INT           Number of Fatalities Strike Incident\n",
    "                                            (0 - 8 / 99.7% Missing)\n",
    "    Injuries                  INT           Number of Fatalities Strike Incident\n",
    "                                            (1 - 7 / 99.9% Missing)\n",
    "    Aircraft_Damage           INT BINARY    Indicator of Damage to the Aircraft\n",
    "                                            (0-No Damage - 1-Damage Sustained)\n",
    "    Engine_Ingested           INT BINARY\n",
    "##### INDICATORS for strike and damage (2 variables each)    \n",
    "    Radome (Strike & Damage)  INT BINARY\n",
    "    Windshield                INT BINARY\n",
    "    Nose                      INT BINARY\n",
    "    Engine[1-4]               INT BINARY\n",
    "    Propeller                 INT BINARY\n",
    "    Wing_or_Rotor             INT BINARY\n",
    "    Fuselage                  INT BINARY\n",
    "    Landing_Gear              INT BINARY\n",
    "    Tail                      INT BINARY\n",
    "    Lights                    INT BINARY\n",
    "    Other                     INT BINARY\n",
    "\n",
    "* For all of the Strike / Damage variable pairs there are always a small number of records where there is no strike indicated but Damage is indicated.\n",
    "\n",
    "\n",
    "\n",
    "\n",
    "\n"
   ]
  },
  {
   "cell_type": "code",
   "execution_count": 16,
   "metadata": {
    "collapsed": false
   },
   "outputs": [
    {
     "name": "stdout",
     "output_type": "stream",
     "text": [
      "   Record_ID  Incident_Year  Incident_Month  Incident_Day Operator_ID  \\\n",
      "0     127128           1990               1             1         DAL   \n",
      "1     129779           1990               1             1         HAL   \n",
      "2     129780           1990               1             2         UNK   \n",
      "3       2258           1990               1             3         MIL   \n",
      "4       2257           1990               1             3         MIL   \n",
      "\n",
      "          Operator   Aircraft Aircraft_Type Aircraft_Make Aircraft_Model  \\\n",
      "0  DELTA AIR LINES  B-757-200             A           148             26   \n",
      "1     HAWAIIAN AIR       DC-9             A           583             90   \n",
      "2          UNKNOWN    UNKNOWN           NaN           NaN            NaN   \n",
      "3         MILITARY      A-10A             A           345            NaN   \n",
      "4         MILITARY       F-16             A           561            NaN   \n",
      "\n",
      "      ...       Fuselage_Strike  Fuselage_Damage Landing_Gear_Strike  \\\n",
      "0     ...                     0                0                   0   \n",
      "1     ...                     0                0                   0   \n",
      "2     ...                     0                0                   0   \n",
      "3     ...                     0                0                   0   \n",
      "4     ...                     0                0                   0   \n",
      "\n",
      "   Landing_Gear_Damage Tail_Strike Tail_Damage  Lights_Strike Lights_Damage  \\\n",
      "0                    0           1           1              0             0   \n",
      "1                    0           0           0              0             0   \n",
      "2                    0           0           0              0             0   \n",
      "3                    0           0           0              0             0   \n",
      "4                    0           0           0              0             0   \n",
      "\n",
      "   Other_Strike Other_Damage  \n",
      "0             0            0  \n",
      "1             1            0  \n",
      "2             0            0  \n",
      "3             0            0  \n",
      "4             0            0  \n",
      "\n",
      "[5 rows x 66 columns]\n",
      "Record_ID                 int64\n",
      "Incident_Year             int64\n",
      "Incident_Month            int64\n",
      "Incident_Day              int64\n",
      "Operator_ID              object\n",
      "Operator                 object\n",
      "Aircraft                 object\n",
      "Aircraft_Type            object\n",
      "Aircraft_Make            object\n",
      "Aircraft_Model           object\n",
      "Aircraft_Mass           float64\n",
      "Engine_Make             float64\n",
      "Engine_Model             object\n",
      "Engines                 float64\n",
      "Engine_Type              object\n",
      "Engine1_Position         object\n",
      "Engine2_Position        float64\n",
      "Engine3_Position         object\n",
      "Engine4_Position        float64\n",
      "Airport_ID               object\n",
      "Airport                  object\n",
      "State                    object\n",
      "FAA_Region               object\n",
      "Warning_Issued           object\n",
      "Flight_Phase             object\n",
      "Visibility               object\n",
      "Precipitation            object\n",
      "Height                  float64\n",
      "Speed                   float64\n",
      "Distance                float64\n",
      "                         ...   \n",
      "Aircraft_Damage           int64\n",
      "Radome_Strike             int64\n",
      "Radome_Damage             int64\n",
      "Windshield_Strike         int64\n",
      "Windshield_Damage         int64\n",
      "Nose_Strike               int64\n",
      "Nose_Damage               int64\n",
      "Engine1_Strike            int64\n",
      "Engine1_Damage            int64\n",
      "Engine2_Strike            int64\n",
      "Engine2_Damage            int64\n",
      "Engine3_Strike            int64\n",
      "Engine3_Damage            int64\n",
      "Engine4_Strike            int64\n",
      "Engine4_Damage            int64\n",
      "Engine_Ingested           int64\n",
      "Propeller_Strike          int64\n",
      "Propeller_Damage          int64\n",
      "Wing_or_Rotor_Strike      int64\n",
      "Wing_or_Rotor_Damage      int64\n",
      "Fuselage_Strike           int64\n",
      "Fuselage_Damage           int64\n",
      "Landing_Gear_Strike       int64\n",
      "Landing_Gear_Damage       int64\n",
      "Tail_Strike               int64\n",
      "Tail_Damage               int64\n",
      "Lights_Strike             int64\n",
      "Lights_Damage             int64\n",
      "Other_Strike              int64\n",
      "Other_Damage              int64\n",
      "dtype: object\n"
     ]
    }
   ],
   "source": [
    "import pandas as pd\n",
    "import numpy  as np\n",
    "import random\n",
    "import matplotlib.pyplot as plt\n",
    "import seaborn as sns\n",
    "%matplotlib inline\n",
    "\n",
    "# Need to use 'r' before the string to translate to RAW string\n",
    "raw = pd.read_csv(r\"D:\\Users\\Jim\\OneDrive\\Documents\\SMU\\MSDS 7331 DATA MINING\\Project_1\\01_Raw_Data\\Aircraft_Wildlife_Strikes_1990-2015.csv\", header=0, low_memory=False)\n",
    "\n",
    "# FILL IN SPACES WITH UNDERSCORES\n",
    "raw.columns = [c.replace(' ', '_') for c in raw.columns]\n",
    "\n",
    "print (raw.head())\n",
    "print (raw.dtypes)"
   ]
  },
  {
   "cell_type": "markdown",
   "metadata": {},
   "source": [
    "#### Data Manipulation\n",
    "* Create \"Modified\" DF (BS-BIRD STRIKES)\n",
    "\n",
    "* Dropped several variables deemed not necessary for current analysis\n",
    "* Fix Value for Flight Impact (2 Categories coded: ENGINE SHUT DOWN & ENGINE SHUTDOWN)\n",
    "* Identified the first position of the Species ID could be used to group Species (species_group)\n",
    "* Dropped records for Terestrial Animals and Batts to focus analysis on Birds\n",
    "* Recoded 1 species from k->K"
   ]
  },
  {
   "cell_type": "code",
   "execution_count": 18,
   "metadata": {
    "collapsed": false
   },
   "outputs": [
    {
     "name": "stdout",
     "output_type": "stream",
     "text": [
      "Incident_Year             int64\n",
      "Incident_Month            int64\n",
      "Operator_ID              object\n",
      "Operator                 object\n",
      "Aircraft                 object\n",
      "Aircraft_Type            object\n",
      "Aircraft_Mass           float64\n",
      "Engines                 float64\n",
      "Engine_Type              object\n",
      "Airport_ID               object\n",
      "Airport                  object\n",
      "State                    object\n",
      "FAA_Region               object\n",
      "Warning_Issued           object\n",
      "Flight_Phase             object\n",
      "Height                  float64\n",
      "Speed                   float64\n",
      "Species_ID               object\n",
      "Species_Name             object\n",
      "Species_Quantity         object\n",
      "Flight_Impact            object\n",
      "Fatalities              float64\n",
      "Injuries                float64\n",
      "Aircraft_Damage           int64\n",
      "Radome_Strike             int64\n",
      "Radome_Damage             int64\n",
      "Windshield_Strike         int64\n",
      "Windshield_Damage         int64\n",
      "Nose_Strike               int64\n",
      "Nose_Damage               int64\n",
      "Engine1_Strike            int64\n",
      "Engine1_Damage            int64\n",
      "Engine2_Strike            int64\n",
      "Engine2_Damage            int64\n",
      "Engine3_Strike            int64\n",
      "Engine3_Damage            int64\n",
      "Engine4_Strike            int64\n",
      "Engine4_Damage            int64\n",
      "Engine_Ingested           int64\n",
      "Propeller_Strike          int64\n",
      "Propeller_Damage          int64\n",
      "Wing_or_Rotor_Strike      int64\n",
      "Wing_or_Rotor_Damage      int64\n",
      "Fuselage_Strike           int64\n",
      "Fuselage_Damage           int64\n",
      "Landing_Gear_Strike       int64\n",
      "Landing_Gear_Damage       int64\n",
      "Tail_Strike               int64\n",
      "Tail_Damage               int64\n",
      "Lights_Strike             int64\n",
      "Lights_Damage             int64\n",
      "Other_Strike              int64\n",
      "Other_Damage              int64\n",
      "dtype: object\n",
      "           Record_ID  Incident_Year  Incident_Month   Incident_Day  \\\n",
      "count  174104.000000  174104.000000   174104.000000  174104.000000   \n",
      "mean   241204.036915    2006.036392        7.171840      15.712264   \n",
      "std     94013.682213       6.747708        2.790152       8.799405   \n",
      "min      1000.000000    1990.000000        1.000000       1.000000   \n",
      "25%    205411.750000    2001.000000        5.000000       8.000000   \n",
      "50%    249102.500000    2007.000000        8.000000      16.000000   \n",
      "75%    322592.250000    2012.000000        9.000000      23.000000   \n",
      "max    367445.000000    2015.000000       12.000000      31.000000   \n",
      "\n",
      "       Aircraft_Mass    Engine_Make        Engines  Engine2_Position  \\\n",
      "count  127320.000000  123434.000000  127342.000000     118715.000000   \n",
      "mean        3.510611      21.306958       2.057656          2.918570   \n",
      "std         0.873783      11.023161       0.469374          2.008204   \n",
      "min         1.000000       1.000000       1.000000          1.000000   \n",
      "25%         3.000000      10.000000       2.000000          1.000000   \n",
      "50%         4.000000      22.000000       2.000000          1.000000   \n",
      "75%         4.000000      34.000000       2.000000          5.000000   \n",
      "max         5.000000      92.000000       4.000000          7.000000   \n",
      "\n",
      "       Engine4_Position         Height      ...        Fuselage_Strike  \\\n",
      "count       3092.000000  103677.000000      ...          174104.000000   \n",
      "mean           2.058538     831.032283      ...               0.102703   \n",
      "std            1.441000    1803.650833      ...               0.303571   \n",
      "min            1.000000       0.000000      ...               0.000000   \n",
      "25%            1.000000       0.000000      ...               0.000000   \n",
      "50%            1.000000      50.000000      ...               0.000000   \n",
      "75%            4.000000     800.000000      ...               0.000000   \n",
      "max            5.000000   31300.000000      ...               1.000000   \n",
      "\n",
      "       Fuselage_Damage  Landing_Gear_Strike  Landing_Gear_Damage  \\\n",
      "count    174104.000000        174104.000000        174104.000000   \n",
      "mean          0.004733             0.046242             0.005813   \n",
      "std           0.068633             0.210010             0.076019   \n",
      "min           0.000000             0.000000             0.000000   \n",
      "25%           0.000000             0.000000             0.000000   \n",
      "50%           0.000000             0.000000             0.000000   \n",
      "75%           0.000000             0.000000             0.000000   \n",
      "max           1.000000             1.000000             1.000000   \n",
      "\n",
      "         Tail_Strike    Tail_Damage  Lights_Strike  Lights_Damage  \\\n",
      "count  174104.000000  174104.000000  174104.000000  174104.000000   \n",
      "mean        0.011235       0.004176       0.005962       0.004216   \n",
      "std         0.105397       0.064485       0.076983       0.064793   \n",
      "min         0.000000       0.000000       0.000000       0.000000   \n",
      "25%         0.000000       0.000000       0.000000       0.000000   \n",
      "50%         0.000000       0.000000       0.000000       0.000000   \n",
      "75%         0.000000       0.000000       0.000000       0.000000   \n",
      "max         1.000000       1.000000       1.000000       1.000000   \n",
      "\n",
      "        Other_Strike   Other_Damage  \n",
      "count  174104.000000  174104.000000  \n",
      "mean        0.090727       0.008989  \n",
      "std         0.287222       0.094383  \n",
      "min         0.000000       0.000000  \n",
      "25%         0.000000       0.000000  \n",
      "50%         0.000000       0.000000  \n",
      "75%         0.000000       0.000000  \n",
      "max         1.000000       1.000000  \n",
      "\n",
      "[8 rows x 44 columns]\n"
     ]
    }
   ],
   "source": [
    "bs = raw\n",
    "\n",
    "# DROP VARS\n",
    "bs = bs.drop('Record_ID', axis=1)\n",
    "bs = bs.drop('Incident_Day', axis=1)\n",
    "bs = bs.drop('Aircraft_Make', axis=1)\n",
    "bs = bs.drop('Aircraft_Model', axis=1)\n",
    "bs = bs.drop('Distance', axis=1)\n",
    "bs = bs.drop('Engine_Make', axis=1)\n",
    "bs = bs.drop('Engine_Model', axis=1)\n",
    "bs = bs.drop('Engine1_Position', axis=1)\n",
    "bs = bs.drop('Engine2_Position', axis=1)\n",
    "bs = bs.drop('Engine3_Position', axis=1)\n",
    "bs = bs.drop('Engine4_Position', axis=1)\n",
    "bs = bs.drop('Visibility', axis=1)\n",
    "bs = bs.drop('Precipitation', axis=1)\n",
    "\n",
    "# LIST RESULTING VARS WITH DATA TYPES\n",
    "print (bs.dtypes)\n",
    "\n",
    "# SIMPLE STATISTICS\n",
    "print (raw.describe())"
   ]
  },
  {
   "cell_type": "code",
   "execution_count": 19,
   "metadata": {
    "collapsed": false
   },
   "outputs": [
    {
     "data": {
      "text/plain": [
       "U    80851\n",
       "Y    18525\n",
       "N    18219\n",
       "Z    15651\n",
       "O    12290\n",
       "K    11104\n",
       "J     4941\n",
       "R     2544\n",
       "I     1601\n",
       "T      817\n",
       "S      616\n",
       "M      449\n",
       "H      307\n",
       "L      278\n",
       "X      184\n",
       "F      110\n",
       "G       82\n",
       "Q       59\n",
       "E       42\n",
       "P       24\n",
       "W       11\n",
       "Name: species_gp, dtype: int64"
      ]
     },
     "execution_count": 19,
     "metadata": {},
     "output_type": "execute_result"
    }
   ],
   "source": [
    "# RECODES\n",
    "bs['Flight_Impact'] = bs['Flight_Impact'].replace(to_replace='ENGINE SHUT DOWN', value='ENGINE SHUTDOWN')\n",
    "\n",
    "# FREQ. TO CONFIRM\n",
    "bs['Flight_Impact'].value_counts(dropna=False).sort_index()\n",
    "\n",
    "# SUBSTRING SPECIES CODE\n",
    "bs['species_gp'] = bs['Species_ID'].str[:1]\n",
    "bs['species_gp'] = bs['species_gp'].replace(to_replace='k', value='K')\n",
    "\n",
    "# DROP 1 & 2 (NON-BIRDS)\n",
    "bs = bs[bs['species_gp'].isin(['1','2']) == False]\n",
    "\n",
    "# FREQ. TO CONFIRM\n",
    "bs['species_gp'].value_counts(dropna=False)"
   ]
  },
  {
   "cell_type": "code",
   "execution_count": 20,
   "metadata": {
    "collapsed": false
   },
   "outputs": [
    {
     "data": {
      "text/plain": [
       "UNKNOWN                            80851\n",
       "PERCHING BIRDS                     34176\n",
       "SHOREBIRD                          18219\n",
       "PIGEONS, DOVES                     12290\n",
       "HAWKS, EAGLES, FALCONS             11104\n",
       "DUCKS, GEESE, SWANS                 4941\n",
       "OWLS                                2544\n",
       "HERONS, EGRETS, BITTE               1601\n",
       "SWIFTS, HUMMINGBIRDS                 817\n",
       "NIGHTJARS                            616\n",
       "CRANES, RAILS, GALLINULES            449\n",
       "TROPICBIRDS,PELICANS,CORMORANTS      307\n",
       "GALLINACEOUS BIRDS                   278\n",
       "WOODPECKERS, PICULETS                184\n",
       "GREBES                               110\n",
       "ALBATROSS, SHEARWATERS                82\n",
       "CUCKOOS, ROADRUNNERS                  59\n",
       "LOONS                                 42\n",
       "PARROTS                               24\n",
       "KINGFISHER                            11\n",
       "Name: species_group, dtype: int64"
      ]
     },
     "execution_count": 20,
     "metadata": {},
     "output_type": "execute_result"
    }
   ],
   "source": [
    "def set_group(row):\n",
    "    if row[\"species_gp\"] == \"E\":\n",
    "        val = \"LOONS\"\n",
    "    elif row[\"species_gp\"] == \"F\":\n",
    "        val = \"GREBES\"\n",
    "    elif row[\"species_gp\"] == \"G\":\n",
    "        val = \"ALBATROSS, SHEARWATERS\"\n",
    "    elif row[\"species_gp\"] == \"H\":\n",
    "        val = \"TROPICBIRDS,PELICANS,CORMORANTS\"\n",
    "    elif row[\"species_gp\"] == \"I\":\n",
    "        val = \"HERONS, EGRETS, BITTE\"\n",
    "    elif row[\"species_gp\"] == \"J\":\n",
    "        val = \"DUCKS, GEESE, SWANS\"\n",
    "    elif row[\"species_gp\"] == \"K\":\n",
    "        val = \"HAWKS, EAGLES, FALCONS\"\n",
    "    elif row[\"species_gp\"] == \"L\":\n",
    "        val = \"GALLINACEOUS BIRDS\"\n",
    "    elif row[\"species_gp\"] == \"M\":\n",
    "        val = \"CRANES, RAILS, GALLINULES\"\n",
    "    elif row[\"species_gp\"] == \"N\":\n",
    "        val = \"SHOREBIRD\"\n",
    "    elif row[\"species_gp\"] == \"O\":\n",
    "        val = \"PIGEONS, DOVES\"\n",
    "    elif row[\"species_gp\"] == \"P\":\n",
    "        val = \"PARROTS\"\n",
    "    elif row[\"species_gp\"] == \"Q\":\n",
    "        val = \"CUCKOOS, ROADRUNNERS\"\n",
    "    elif row[\"species_gp\"] == \"R\":\n",
    "        val = \"OWLS\"\n",
    "    elif row[\"species_gp\"] == \"S\":\n",
    "        val = \"NIGHTJARS\"\n",
    "    elif row[\"species_gp\"] == \"T\":\n",
    "        val = \"SWIFTS, HUMMINGBIRDS\"\n",
    "    elif row[\"species_gp\"] == \"U\":\n",
    "        val = \"UNKNOWN\"\n",
    "    elif row[\"species_gp\"] == \"W\":\n",
    "        val = \"KINGFISHER\"\n",
    "    elif row[\"species_gp\"] == \"X\":\n",
    "        val = \"WOODPECKERS, PICULETS\"\n",
    "    elif row[\"species_gp\"] in[\"Y\",\"Z\"]:\n",
    "        val = \"PERCHING BIRDS\"\n",
    "    else:\n",
    "        val = '---'\n",
    "    return val\n",
    "\n",
    "# RUN ABOVE ASSIGNMENT\n",
    "bs['species_group'] = bs.apply(set_group, axis=1)\n",
    "\n",
    "# FREQ. TO CONFIRM\n",
    "bs['species_group'].value_counts(dropna=False)\n"
   ]
  },
  {
   "cell_type": "code",
   "execution_count": 41,
   "metadata": {
    "collapsed": false
   },
   "outputs": [
    {
     "data": {
      "image/png": "[encoded data removed]",
      "text/plain": [
       "<matplotlib.figure.Figure at 0x8e5f4a8>"
      ]
     },
     "metadata": {},
     "output_type": "display_data"
    }
   ],
   "source": [
    "bs_grouped = bs.groupby(by=['species_group'])\n",
    "damage_pct = (bs_grouped.Aircraft_Damage.sum() / bs_grouped.Aircraft_Damage.count()) * 100  \n",
    "\n",
    "#print(damage_pct)\n",
    "\n",
    "dmg_plt = damage_pct.plot(kind='barh')"
   ]
  },
  {
   "cell_type": "markdown",
   "metadata": {},
   "source": [
    "##### Percent of Bird Strikes Resulting in Damage\n",
    "The above chart shows that aircraft strikes by the \"Loons' category have the highest percent of incidents that cause damage with ~60% of strikes resulting in damage of some sort. This is followed by the groups: 'TROPICBIRDS,PELICANS,CORMORANTS' and 'DUCKS, GEESE, SWANS'."
   ]
  },
  {
   "cell_type": "code",
   "execution_count": 54,
   "metadata": {
    "collapsed": false
   },
   "outputs": [
    {
     "data": {
      "text/plain": [
       "<matplotlib.axes._subplots.AxesSubplot at 0x1d985f28>"
      ]
     },
     "execution_count": 54,
     "metadata": {},
     "output_type": "execute_result"
    },
    {
     "data": {
      "image/png": "[encoded data removed]",
      "text/plain": [
       "<matplotlib.figure.Figure at 0x1d96e2b0>"
      ]
     },
     "metadata": {},
     "output_type": "display_data"
    }
   ],
   "source": [
    "# VERTICAL BAR CHART INCLUDING PCT DAMAGE AND TOTAL INCIDENTS PER SPECIES GROUP\n",
    "damage_counts = pd.crosstab(bs['species_group'],bs['Aircraft_Damage'].astype(bool))\n",
    "\n",
    "damage_counts.plot(kind='barh',\n",
    "                   stacked=True,\n",
    "                   color=['gold','red'])"
   ]
  },
  {
   "cell_type": "markdown",
   "metadata": {},
   "source": [
    "##### Percent of Bird Strikes Resulting in Damage (Including Total Incidents per Species Group)\n",
    "The above chart shows adds an additiona dimention of total bird strikes. It shows that aircraft strikes by 'Unknown' species lead the total incidents followed by 'PERCHING BIRDS'. This also shows the percent of strikes resulting in damage of some sort as in the previous chart but total number of incidents is what the catches the viewer first."
   ]
  },
  {
   "cell_type": "code",
   "execution_count": null,
   "metadata": {
    "collapsed": true
   },
   "outputs": [],
   "source": [
    "bs_grouped = bs.groupby(by=['Incident_Year','species_group'])\n",
    "damage_pct = (bs_grouped.Aircraft_Damage.sum() / bs_grouped.Aircraft_Damage.count()) * 100  \n",
    "\n",
    "print(damage_pct)\n",
    "\n",
    "\n",
    "#bs_total   = bs_grouped.Aircraft_Damage.count()\n",
    "#print(bs_total)\n",
    "\n",
    "# LIST RESULTING VARS WITH DATA TYPES\n",
    "#print (bs_total.dtypes)"
   ]
  },
  {
   "cell_type": "code",
   "execution_count": null,
   "metadata": {
    "collapsed": true
   },
   "outputs": [],
   "source": [
    "import numpy as np\n",
    "from scipy  import stats\n",
    "from mayavi import mlab\n",
    "\n",
    "bs_height = bs['Height']\n",
    "bs_height = bs_height.dropna()\n",
    "bs_damage = bs['Aircraft_Damage']\n",
    "bs_damage = bs.dropna()\n",
    "bs_speed  = bs['Speed']\n",
    "bs_speed  = bs_speed.dropna()\n",
    "xyz = np.vstack([df_speed,df_height,df_damage])\n",
    "kde = stats.gaussian_kde(xyz)\n",
    "density = kde(xyz)\n",
    "\n",
    "# Plot scatter with mayavi\n",
    "figure = mlab.figure('DensityPlot')\n",
    "pts = mlab.points3d(x, y, z, density, scale_mode='none', scale_factor=0.07)\n",
    "mlab.axes()\n",
    "mlab.show()"
   ]
  },
  {
   "cell_type": "code",
   "execution_count": 55,
   "metadata": {
    "collapsed": false
   },
   "outputs": [
    {
     "ename": "ImportError",
     "evalue": "No module named mayavi",
     "output_type": "error",
     "traceback": [
      "\u001b[0;31m---------------------------------------------------------------------------\u001b[0m",
      "\u001b[0;31mImportError\u001b[0m                               Traceback (most recent call last)",
      "\u001b[0;32m<ipython-input-55-19a085022aa7>\u001b[0m in \u001b[0;36m<module>\u001b[0;34m()\u001b[0m\n\u001b[1;32m      1\u001b[0m \u001b[1;32mimport\u001b[0m \u001b[0mnumpy\u001b[0m \u001b[1;32mas\u001b[0m \u001b[0mnp\u001b[0m\u001b[1;33m\u001b[0m\u001b[0m\n\u001b[1;32m      2\u001b[0m \u001b[1;32mfrom\u001b[0m \u001b[0mscipy\u001b[0m  \u001b[1;32mimport\u001b[0m \u001b[0mstats\u001b[0m\u001b[1;33m\u001b[0m\u001b[0m\n\u001b[0;32m----> 3\u001b[0;31m \u001b[1;32mfrom\u001b[0m \u001b[0mmayavi\u001b[0m \u001b[1;32mimport\u001b[0m \u001b[0mmlab\u001b[0m\u001b[1;33m\u001b[0m\u001b[0m\n\u001b[0m",
      "\u001b[0;31mImportError\u001b[0m: No module named mayavi"
     ]
    }
   ],
   "source": [
    "import numpy as np\n",
    "from scipy  import stats\n",
    "from mayavi import mlab"
   ]
  },
  {
   "cell_type": "code",
   "execution_count": 30,
   "metadata": {
    "collapsed": false
   },
   "outputs": [
    {
     "ename": "IndexError",
     "evalue": "single positional indexer is out-of-bounds",
     "output_type": "error",
     "traceback": [
      "\u001b[0;31m---------------------------------------------------------------------------\u001b[0m",
      "\u001b[0;31mIndexError\u001b[0m                                Traceback (most recent call last)",
      "\u001b[0;32m<ipython-input-30-540b2ae5440d>\u001b[0m in \u001b[0;36m<module>\u001b[0;34m()\u001b[0m\n\u001b[1;32m      2\u001b[0m \u001b[1;33m\u001b[0m\u001b[0m\n\u001b[1;32m      3\u001b[0m \u001b[0msns\u001b[0m\u001b[1;33m.\u001b[0m\u001b[0mset_style\u001b[0m\u001b[1;33m(\u001b[0m\u001b[1;34m\"whitegrid\"\u001b[0m\u001b[1;33m)\u001b[0m\u001b[1;33m\u001b[0m\u001b[0m\n\u001b[0;32m----> 4\u001b[0;31m \u001b[0mbs_total\u001b[0m \u001b[1;33m=\u001b[0m \u001b[0msns\u001b[0m\u001b[1;33m.\u001b[0m\u001b[0mload_dataset\u001b[0m\u001b[1;33m(\u001b[0m\u001b[1;34m\"bs_total\"\u001b[0m\u001b[1;33m)\u001b[0m\u001b[1;33m\u001b[0m\u001b[0m\n\u001b[0m\u001b[1;32m      5\u001b[0m \u001b[1;33m\u001b[0m\u001b[0m\n\u001b[1;32m      6\u001b[0m \u001b[1;33m\u001b[0m\u001b[0m\n",
      "\u001b[0;32mD:\\Users\\Jim\\Anaconda2\\lib\\site-packages\\seaborn\\utils.py\u001b[0m in \u001b[0;36mload_dataset\u001b[0;34m(name, cache, data_home, **kws)\u001b[0m\n\u001b[1;32m    426\u001b[0m \u001b[1;33m\u001b[0m\u001b[0m\n\u001b[1;32m    427\u001b[0m     \u001b[0mdf\u001b[0m \u001b[1;33m=\u001b[0m \u001b[0mpd\u001b[0m\u001b[1;33m.\u001b[0m\u001b[0mread_csv\u001b[0m\u001b[1;33m(\u001b[0m\u001b[0mfull_path\u001b[0m\u001b[1;33m,\u001b[0m \u001b[1;33m**\u001b[0m\u001b[0mkws\u001b[0m\u001b[1;33m)\u001b[0m\u001b[1;33m\u001b[0m\u001b[0m\n\u001b[0;32m--> 428\u001b[0;31m     \u001b[1;32mif\u001b[0m \u001b[0mdf\u001b[0m\u001b[1;33m.\u001b[0m\u001b[0miloc\u001b[0m\u001b[1;33m[\u001b[0m\u001b[1;33m-\u001b[0m\u001b[1;36m1\u001b[0m\u001b[1;33m]\u001b[0m\u001b[1;33m.\u001b[0m\u001b[0misnull\u001b[0m\u001b[1;33m(\u001b[0m\u001b[1;33m)\u001b[0m\u001b[1;33m.\u001b[0m\u001b[0mall\u001b[0m\u001b[1;33m(\u001b[0m\u001b[1;33m)\u001b[0m\u001b[1;33m:\u001b[0m\u001b[1;33m\u001b[0m\u001b[0m\n\u001b[0m\u001b[1;32m    429\u001b[0m         \u001b[0mdf\u001b[0m \u001b[1;33m=\u001b[0m \u001b[0mdf\u001b[0m\u001b[1;33m.\u001b[0m\u001b[0miloc\u001b[0m\u001b[1;33m[\u001b[0m\u001b[1;33m:\u001b[0m\u001b[1;33m-\u001b[0m\u001b[1;36m1\u001b[0m\u001b[1;33m]\u001b[0m\u001b[1;33m\u001b[0m\u001b[0m\n\u001b[1;32m    430\u001b[0m \u001b[1;33m\u001b[0m\u001b[0m\n",
      "\u001b[0;32mD:\\Users\\Jim\\Anaconda2\\lib\\site-packages\\pandas\\core\\indexing.pyc\u001b[0m in \u001b[0;36m__getitem__\u001b[0;34m(self, key)\u001b[0m\n\u001b[1;32m   1310\u001b[0m             \u001b[1;32mreturn\u001b[0m \u001b[0mself\u001b[0m\u001b[1;33m.\u001b[0m\u001b[0m_getitem_tuple\u001b[0m\u001b[1;33m(\u001b[0m\u001b[0mkey\u001b[0m\u001b[1;33m)\u001b[0m\u001b[1;33m\u001b[0m\u001b[0m\n\u001b[1;32m   1311\u001b[0m         \u001b[1;32melse\u001b[0m\u001b[1;33m:\u001b[0m\u001b[1;33m\u001b[0m\u001b[0m\n\u001b[0;32m-> 1312\u001b[0;31m             \u001b[1;32mreturn\u001b[0m \u001b[0mself\u001b[0m\u001b[1;33m.\u001b[0m\u001b[0m_getitem_axis\u001b[0m\u001b[1;33m(\u001b[0m\u001b[0mkey\u001b[0m\u001b[1;33m,\u001b[0m \u001b[0maxis\u001b[0m\u001b[1;33m=\u001b[0m\u001b[1;36m0\u001b[0m\u001b[1;33m)\u001b[0m\u001b[1;33m\u001b[0m\u001b[0m\n\u001b[0m\u001b[1;32m   1313\u001b[0m \u001b[1;33m\u001b[0m\u001b[0m\n\u001b[1;32m   1314\u001b[0m     \u001b[1;32mdef\u001b[0m \u001b[0m_getitem_axis\u001b[0m\u001b[1;33m(\u001b[0m\u001b[0mself\u001b[0m\u001b[1;33m,\u001b[0m \u001b[0mkey\u001b[0m\u001b[1;33m,\u001b[0m \u001b[0maxis\u001b[0m\u001b[1;33m=\u001b[0m\u001b[1;36m0\u001b[0m\u001b[1;33m)\u001b[0m\u001b[1;33m:\u001b[0m\u001b[1;33m\u001b[0m\u001b[0m\n",
      "\u001b[0;32mD:\\Users\\Jim\\Anaconda2\\lib\\site-packages\\pandas\\core\\indexing.pyc\u001b[0m in \u001b[0;36m_getitem_axis\u001b[0;34m(self, key, axis)\u001b[0m\n\u001b[1;32m   1626\u001b[0m \u001b[1;33m\u001b[0m\u001b[0m\n\u001b[1;32m   1627\u001b[0m                 \u001b[1;31m# validate the location\u001b[0m\u001b[1;33m\u001b[0m\u001b[1;33m\u001b[0m\u001b[0m\n\u001b[0;32m-> 1628\u001b[0;31m                 \u001b[0mself\u001b[0m\u001b[1;33m.\u001b[0m\u001b[0m_is_valid_integer\u001b[0m\u001b[1;33m(\u001b[0m\u001b[0mkey\u001b[0m\u001b[1;33m,\u001b[0m \u001b[0maxis\u001b[0m\u001b[1;33m)\u001b[0m\u001b[1;33m\u001b[0m\u001b[0m\n\u001b[0m\u001b[1;32m   1629\u001b[0m \u001b[1;33m\u001b[0m\u001b[0m\n\u001b[1;32m   1630\u001b[0m             \u001b[1;32mreturn\u001b[0m \u001b[0mself\u001b[0m\u001b[1;33m.\u001b[0m\u001b[0m_get_loc\u001b[0m\u001b[1;33m(\u001b[0m\u001b[0mkey\u001b[0m\u001b[1;33m,\u001b[0m \u001b[0maxis\u001b[0m\u001b[1;33m=\u001b[0m\u001b[0maxis\u001b[0m\u001b[1;33m)\u001b[0m\u001b[1;33m\u001b[0m\u001b[0m\n",
      "\u001b[0;32mD:\\Users\\Jim\\Anaconda2\\lib\\site-packages\\pandas\\core\\indexing.pyc\u001b[0m in \u001b[0;36m_is_valid_integer\u001b[0;34m(self, key, axis)\u001b[0m\n\u001b[1;32m   1540\u001b[0m         \u001b[0ml\u001b[0m \u001b[1;33m=\u001b[0m \u001b[0mlen\u001b[0m\u001b[1;33m(\u001b[0m\u001b[0max\u001b[0m\u001b[1;33m)\u001b[0m\u001b[1;33m\u001b[0m\u001b[0m\n\u001b[1;32m   1541\u001b[0m         \u001b[1;32mif\u001b[0m \u001b[0mkey\u001b[0m \u001b[1;33m>=\u001b[0m \u001b[0ml\u001b[0m \u001b[1;32mor\u001b[0m \u001b[0mkey\u001b[0m \u001b[1;33m<\u001b[0m \u001b[1;33m-\u001b[0m\u001b[0ml\u001b[0m\u001b[1;33m:\u001b[0m\u001b[1;33m\u001b[0m\u001b[0m\n\u001b[0;32m-> 1542\u001b[0;31m             \u001b[1;32mraise\u001b[0m \u001b[0mIndexError\u001b[0m\u001b[1;33m(\u001b[0m\u001b[1;34m\"single positional indexer is out-of-bounds\"\u001b[0m\u001b[1;33m)\u001b[0m\u001b[1;33m\u001b[0m\u001b[0m\n\u001b[0m\u001b[1;32m   1543\u001b[0m         \u001b[1;32mreturn\u001b[0m \u001b[0mTrue\u001b[0m\u001b[1;33m\u001b[0m\u001b[0m\n\u001b[1;32m   1544\u001b[0m \u001b[1;33m\u001b[0m\u001b[0m\n",
      "\u001b[0;31mIndexError\u001b[0m: single positional indexer is out-of-bounds"
     ]
    }
   ],
   "source": [
    "#import seaborn as sns\n",
    "\n",
    "sns.set_style(\"whitegrid\")\n",
    "bs_total = sns.load_dataset(\"bs_total\")\n",
    "\n",
    "\n",
    "#ax = sns.violinplot(x=bs_total[\"Incident_Year\"])\n",
    "\n",
    "#ax = sns.violinplot(y='species_group', x='Incident_Year', data=bs_total)\n"
   ]
  },
  {
   "cell_type": "code",
   "execution_count": null,
   "metadata": {
    "collapsed": false
   },
   "outputs": [],
   "source": [
    "\n"
   ]
  },
  {
   "cell_type": "code",
   "execution_count": null,
   "metadata": {
    "collapsed": true
   },
   "outputs": [],
   "source": [
    "# NON-WORKING CODE\n",
    "\n",
    "# CHANGE FLOAT TO INT\n",
    "#int(bs['Engines'])\n",
    "#bs['Engines'] = int(bs['Engines'])\n"
   ]
  }
 ],
 "metadata": {
  "kernelspec": {
   "display_name": "Python 2",
   "language": "python",
   "name": "python2"
  },
  "language_info": {
   "codemirror_mode": {
    "name": "ipython",
    "version": 2
   },
   "file_extension": ".py",
   "mimetype": "text/x-python",
   "name": "python",
   "nbconvert_exporter": "python",
   "pygments_lexer": "ipython2",
   "version": "2.7.13"
  }
 },
 "nbformat": 4,
 "nbformat_minor": 2
}
